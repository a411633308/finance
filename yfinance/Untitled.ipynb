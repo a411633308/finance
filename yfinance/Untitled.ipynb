{
 "cells": [
  {
   "cell_type": "code",
   "execution_count": 2,
   "metadata": {},
   "outputs": [],
   "source": [
    "import random as rd\n",
    "import pandas as pd\n",
    "import numpy as np\n",
    "import yfinance as yf"
   ]
  },
  {
   "cell_type": "code",
   "execution_count": 4,
   "metadata": {},
   "outputs": [],
   "source": [
    "# Load all U.S. stocks in all sectors:\n",
    "stock_list = pd.read_csv(r'G:\\Unterricht\\Taobao\\stocklist\\stocklist.csv')\n",
    "ticker_list = stock_list['Symbol']\n",
    "name_list = stock_list['Name']\n",
    "sector_list = stock_list['Sector']\n"
   ]
  },
  {
   "cell_type": "code",
   "execution_count": 10,
   "metadata": {},
   "outputs": [],
   "source": [
    "def select_stock_randomly(stock_list):\n",
    "    num_of_stocks = stock_list.count()[0]\n",
    "    # select two stocks randomly\n",
    "    stock_id_1 = rd.randint(0,num_of_stocks - 1)\n",
    "    print(stock_id_1, stock_id_2)\n",
    "    # the ticker of two selected stock\n",
    "    ticker_1 = ticker_list[stock_id_1]\n",
    "    print(\"selected stock:\", ticker_1)\n",
    "    return ticker_1\n",
    "\n",
    "def download_price(ticker_1):\n",
    "    stock_1_price = yf.download(ticker_1, '2021-01-01', '2021-06-30')\n",
    "\n",
    "    if stock_1_price.empty:\n",
    "        print('Ticker', ticker_1, 'does not exist on Yahoo Finance!')\n",
    "    else:\n",
    "        print(\"The highest profit of\", ticker_1, \"are\", stock_1_price['High'])\n",
    "        \n",
    "    return stock_1_price['High']\n",
    "\n",
    "# using convolve to calculate the moving average\n",
    "# params: ts, the price need to be estimated;win, window size for calculating, for instance MA of 5 days.\n",
    "def moving_average(ts, win):\n",
    "    return np.convolve(ts, np.ones(win)/win, 'valid')"
   ]
  },
  {
   "cell_type": "code",
   "execution_count": 12,
   "metadata": {},
   "outputs": [
    {
     "name": "stdout",
     "output_type": "stream",
     "text": [
      "2442 758\n",
      "selected stock: ESTE\n",
      "7531 758\n",
      "selected stock: WATT\n",
      "[*********************100%***********************]  1 of 1 completed\n",
      "The highest profit of ESTE are Date\n",
      "2020-12-31     5.560\n",
      "2021-01-04     5.860\n",
      "2021-01-05     6.550\n",
      "2021-01-06     6.880\n",
      "2021-01-07     6.390\n",
      "               ...  \n",
      "2021-06-14    11.880\n",
      "2021-06-15    11.370\n",
      "2021-06-16    11.270\n",
      "2021-06-17    10.815\n",
      "2021-06-18    10.970\n",
      "Name: High, Length: 117, dtype: float64\n",
      "[*********************100%***********************]  1 of 1 completed\n",
      "The highest profit of WATT are Date\n",
      "2020-12-31    2.010\n",
      "2021-01-04    1.945\n",
      "2021-01-05    2.180\n",
      "2021-01-06    2.290\n",
      "2021-01-07    2.630\n",
      "              ...  \n",
      "2021-06-14    3.075\n",
      "2021-06-15    2.980\n",
      "2021-06-16    2.970\n",
      "2021-06-17    3.080\n",
      "2021-06-18    2.895\n",
      "Name: High, Length: 117, dtype: float64\n"
     ]
    }
   ],
   "source": [
    "ticker_1 = select_stock_randomly(stock_list) # select a stock randomly\n",
    "stock_1_price_high = download_price(ticker_1) # download the maximum price\n",
    "stock_1_ma = moving_average(stock_1_price_high, 5) # calculate the moving average \n"
   ]
  },
  {
   "cell_type": "code",
   "execution_count": 24,
   "metadata": {
    "scrolled": true
   },
   "outputs": [
    {
     "name": "stdout",
     "output_type": "stream",
     "text": [
      "5562 758\n",
      "selected stock: PHAS\n",
      "[*********************100%***********************]  1 of 1 completed\n",
      "The highest profit of PHAS are Date\n",
      "2020-12-31    3.54\n",
      "2021-01-04    3.87\n",
      "2021-01-05    4.12\n",
      "2021-01-06    3.90\n",
      "2021-01-07    4.12\n",
      "              ... \n",
      "2021-06-14    3.92\n",
      "2021-06-15    3.90\n",
      "2021-06-16    3.97\n",
      "2021-06-17    4.24\n",
      "2021-06-18    4.03\n",
      "Name: High, Length: 117, dtype: float64\n",
      "2077 758\n",
      "selected stock: DMF\n",
      "[*********************100%***********************]  1 of 1 completed\n",
      "The highest profit of DMF are Date\n",
      "2020-12-31    8.87\n",
      "2021-01-04    8.89\n",
      "2021-01-05    8.89\n",
      "2021-01-06    8.86\n",
      "2021-01-07    8.80\n",
      "              ... \n",
      "2021-06-14    9.18\n",
      "2021-06-15    9.14\n",
      "2021-06-16    9.13\n",
      "2021-06-17    9.15\n",
      "2021-06-18    9.13\n",
      "Name: High, Length: 117, dtype: float64\n"
     ]
    },
    {
     "data": {
      "text/plain": [
       "(['PHAS', 'DMF'],\n",
       " [Date\n",
       "  2020-12-31    3.54\n",
       "  2021-01-04    3.87\n",
       "  2021-01-05    4.12\n",
       "  2021-01-06    3.90\n",
       "  2021-01-07    4.12\n",
       "                ... \n",
       "  2021-06-14    3.92\n",
       "  2021-06-15    3.90\n",
       "  2021-06-16    3.97\n",
       "  2021-06-17    4.24\n",
       "  2021-06-18    4.03\n",
       "  Name: High, Length: 117, dtype: float64,\n",
       "  Date\n",
       "  2020-12-31    8.87\n",
       "  2021-01-04    8.89\n",
       "  2021-01-05    8.89\n",
       "  2021-01-06    8.86\n",
       "  2021-01-07    8.80\n",
       "                ... \n",
       "  2021-06-14    9.18\n",
       "  2021-06-15    9.14\n",
       "  2021-06-16    9.13\n",
       "  2021-06-17    9.15\n",
       "  2021-06-18    9.13\n",
       "  Name: High, Length: 117, dtype: float64],\n",
       " [array([3.90999994, 4.04799995, 4.09399996, 4.10199995, 4.15599995,\n",
       "         4.20799999, 4.25199995, 4.30199995, 4.31799994, 4.33399992,\n",
       "         4.33399992, 4.31599998, 4.31999998, 4.29200001, 4.22800002,\n",
       "         4.14400001, 4.06999998, 4.01199999, 4.03199997, 4.09599996,\n",
       "         4.16999993, 4.27999992, 4.3999999 , 4.72599993, 4.97399988,\n",
       "         5.12399988, 5.20599985, 5.25999985, 5.04399986, 4.9039999 ,\n",
       "         4.8039999 , 4.66399994, 4.52399998, 4.42399998, 4.26999998,\n",
       "         4.15600004, 4.09600005, 4.01600003, 3.92600002, 3.85800004,\n",
       "         3.81399999, 3.83199997, 3.88400002, 4.02400002, 4.17600002,\n",
       "         4.31000004, 4.65200005, 4.72200003, 4.71599998, 4.64200001,\n",
       "         4.54400001, 4.17600002, 4.02000003, 3.84000006, 3.77600002,\n",
       "         3.68600001, 3.57799997, 3.53399997, 3.53199997, 3.48199997,\n",
       "         3.46999998, 3.452     , 3.42599998, 3.38399997, 3.35599995,\n",
       "         3.32799993, 3.35199995, 3.35599995, 3.33399997, 3.31599998,\n",
       "         3.298     , 3.23999996, 3.19199996, 3.16399994, 3.15999994,\n",
       "         3.14799995, 3.16799998, 3.18000002, 3.17800002, 3.16800003,\n",
       "         3.17400002, 3.13600001, 3.06599998, 3.01399999, 2.954     ,\n",
       "         2.96799998, 2.98599997, 3.03399997, 3.06599998, 3.10399995,\n",
       "         3.10199995, 3.12799997, 3.17399998, 3.26399999, 3.32600002,\n",
       "         3.33800001, 3.35999999, 3.402     , 3.41399999, 3.42199998,\n",
       "         3.46799998, 3.50799999, 3.546     , 3.60599999, 3.69199996,\n",
       "         3.78199997, 3.84199996, 3.86199994, 3.88599997, 3.89200001,\n",
       "         3.88600001, 3.96399999, 4.01200004]),\n",
       "  array([8.86200008, 8.84800014, 8.92600002, 8.97199993, 9.00799999,\n",
       "         9.03799992, 9.07799988, 9.01399994, 8.96199989, 8.94199982,\n",
       "         8.94999981, 8.93999977, 8.93199978, 8.93399982, 8.91799984,\n",
       "         8.89199982, 8.87599983, 8.86999989, 8.87399998, 8.88400002,\n",
       "         8.90400009, 8.93600006, 8.97800007, 9.02600002, 9.09800014,\n",
       "         9.13600006, 9.14400005, 9.11399994, 9.07199993, 8.99399986,\n",
       "         8.91800003, 8.83400002, 8.79800014, 8.76400013, 8.75200005,\n",
       "         8.76199989, 8.79599991, 8.81999989, 8.83799992, 8.83799992,\n",
       "         8.86599998, 8.90200005, 8.91399994, 8.92399998, 8.93600006,\n",
       "         8.93999996, 8.91599998, 8.87199993, 8.82999992, 8.77799988,\n",
       "         8.70599995, 8.6539999 , 8.63600006, 8.62800007, 8.63200016,\n",
       "         8.6460001 , 8.66400013, 8.68600006, 8.71599998, 8.7539999 ,\n",
       "         8.77600002, 8.80200005, 8.82600002, 8.8460001 , 8.86000004,\n",
       "         8.88600006, 8.9       , 8.91399994, 8.92399979, 8.92799988,\n",
       "         8.92599983, 8.93199978, 8.91999989, 8.92199993, 8.92999992,\n",
       "         8.94799995, 8.96400013, 8.97600002, 8.98199997, 8.98799992,\n",
       "         8.98799992, 8.99199982, 9.01799984, 9.05199986, 9.09399986,\n",
       "         9.13199978, 9.1579998 , 9.1539999 , 9.12800007, 9.10800018,\n",
       "         9.09400024, 9.09600029, 9.13600025, 9.27000008, 9.33400002,\n",
       "         9.4       , 9.47600002, 9.52600002, 9.48800011, 9.47000008,\n",
       "         9.43800011, 9.38000011, 9.32400017, 9.26400013, 9.23800011,\n",
       "         9.22200012, 9.20799999, 9.19399986, 9.18999996, 9.17800007,\n",
       "         9.16000004, 9.15      , 9.1460001 ])])"
      ]
     },
     "execution_count": 24,
     "metadata": {},
     "output_type": "execute_result"
    }
   ],
   "source": [
    "loops(2)"
   ]
  },
  {
   "cell_type": "code",
   "execution_count": 23,
   "metadata": {},
   "outputs": [],
   "source": [
    "def loops(numbers):\n",
    "    tickers = []\n",
    "    high_prices = []\n",
    "    stock_ma = []\n",
    "    for i in range(numbers):\n",
    "        ticker_1 = select_stock_randomly(stock_list) # select a stock randomly\n",
    "        tickers.append(ticker_1)\n",
    "        stock_1_price_high = download_price(ticker_1) # download the maximum price\n",
    "        high_prices.append(stock_1_price_high)\n",
    "        stock_1_ma = moving_average(stock_1_price_high, 5) # calculate the moving average \n",
    "        stock_ma.append(stock_1_ma)\n",
    "        \n",
    "    return tickers,high_prices,stock_ma\n",
    "        "
   ]
  }
 ],
 "metadata": {
  "kernelspec": {
   "display_name": "Python 3",
   "language": "python",
   "name": "python3"
  },
  "language_info": {
   "codemirror_mode": {
    "name": "ipython",
    "version": 3
   },
   "file_extension": ".py",
   "mimetype": "text/x-python",
   "name": "python",
   "nbconvert_exporter": "python",
   "pygments_lexer": "ipython3",
   "version": "3.7.3"
  }
 },
 "nbformat": 4,
 "nbformat_minor": 4
}
